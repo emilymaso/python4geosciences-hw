{
 "cells": [
  {
   "cell_type": "markdown",
   "metadata": {},
   "source": [
    "# Homework 03\n",
    "\n",
    "## Due Thursday, February 18th\n",
    "\n",
    "# Emily Mason"
   ]
  },
  {
   "cell_type": "code",
   "execution_count": 1,
   "metadata": {
    "collapsed": false
   },
   "outputs": [],
   "source": [
    "import numpy as np\n",
    "import math\n",
    "import glob\n",
    "%matplotlib inline \n",
    "import matplotlib.pyplot as plt # Added plots for practice\n",
    "import time"
   ]
  },
  {
   "cell_type": "markdown",
   "metadata": {},
   "source": [
    "## 1. Vector manipulation\n",
    "\n",
    "Create a vector of zeros of size 10 but have the fifth value be 1."
   ]
  },
  {
   "cell_type": "code",
   "execution_count": 2,
   "metadata": {
    "collapsed": false
   },
   "outputs": [
    {
     "name": "stdout",
     "output_type": "stream",
     "text": [
      "[ 0.  0.  0.  0.  1.  0.  0.  0.  0.  0.]\n",
      "The shape is:                 (10,)\n",
      "The number of dimensions is:  1\n",
      "[ 0.  0.  0.  0.  1.  0.  0.  0.  0.  0.]\n",
      "The shape is:                 (10,)\n",
      "The number of dimensions is:  1\n"
     ]
    }
   ],
   "source": [
    "# Problem 1 Solution: Vector manipulation\n",
    "# Two methods presented\n",
    "\n",
    "x = np.array([0,0,0,0,1.0,0,0,0,0,0])\n",
    "print(x)\n",
    "print('The shape is:                ',x.shape)\n",
    "print('The number of dimensions is: ',x.ndim)\n",
    "\n",
    "\n",
    "x = np.zeros(shape = (10))\n",
    "x[4] = 1.0\n",
    "print(x)\n",
    "print('The shape is:                ',x.shape)\n",
    "print('The number of dimensions is: ',x.ndim)"
   ]
  },
  {
   "cell_type": "markdown",
   "metadata": {},
   "source": [
    "## 2. Vector range\n",
    "\n",
    "Create a vector with values ranging from 10 to 49, inclusive."
   ]
  },
  {
   "cell_type": "code",
   "execution_count": 3,
   "metadata": {
    "collapsed": false
   },
   "outputs": [
    {
     "name": "stdout",
     "output_type": "stream",
     "text": [
      "[ 10.  11.  12.  13.  14.  15.  16.  17.  18.  19.  20.  21.  22.  23.  24.\n",
      "  25.  26.  27.  28.  29.  30.  31.  32.  33.  34.  35.  36.  37.  38.  39.\n",
      "  40.  41.  42.  43.  44.  45.  46.  47.  48.  49.]\n",
      "The shape is:                 (40,)\n",
      "The number of dimensions is:  1\n",
      "[ 10.  11.  12.  13.  14.  15.  16.  17.  18.  19.  20.  21.  22.  23.  24.\n",
      "  25.  26.  27.  28.  29.  30.  31.  32.  33.  34.  35.  36.  37.  38.  39.\n",
      "  40.  41.  42.  43.  44.  45.  46.  47.  48.  49.]\n",
      "The shape is:                 (40,)\n",
      "The number of dimensions is:  1\n",
      "[ 10.          10.79591837  11.59183673  12.3877551   13.18367347\n",
      "  13.97959184  14.7755102   15.57142857  16.36734694  17.16326531\n",
      "  17.95918367  18.75510204  19.55102041  20.34693878  21.14285714\n",
      "  21.93877551  22.73469388  23.53061224  24.32653061  25.12244898\n",
      "  25.91836735  26.71428571  27.51020408  28.30612245  29.10204082\n",
      "  29.89795918  30.69387755  31.48979592  32.28571429  33.08163265\n",
      "  33.87755102  34.67346939  35.46938776  36.26530612  37.06122449\n",
      "  37.85714286  38.65306122  39.44897959  40.24489796  41.04081633\n",
      "  41.83673469  42.63265306  43.42857143  44.2244898   45.02040816\n",
      "  45.81632653  46.6122449   47.40816327  48.20408163  49.        ]\n",
      "The shape is:                 (50,)\n",
      "The number of dimensions is:  1\n"
     ]
    }
   ],
   "source": [
    "# Problem 2 Solution: Vector range\n",
    "# Two methods presented \n",
    "\n",
    "x = np.arange(10.0,50)\n",
    "print(x)\n",
    "print('The shape is:                ',x.shape)\n",
    "print('The number of dimensions is: ',x.ndim)\n",
    "\n",
    "x=np.linspace(10,49,40)\n",
    "print(x)\n",
    "print('The shape is:                ',x.shape)\n",
    "print('The number of dimensions is: ',x.ndim)\n",
    "\n",
    "x=np.linspace(10,49)\n",
    "print(x)\n",
    "print('The shape is:                ',x.shape)\n",
    "print('The number of dimensions is: ',x.ndim)"
   ]
  },
  {
   "cell_type": "markdown",
   "metadata": {},
   "source": [
    "## 3. Reverse a vector\n",
    "\n",
    "Write a function, `reverse(x)` which reverses a vector, so that the first element becomes the last element. The API should be\n",
    "\n",
    "    return a 1D vector with the elements reversed\n",
    "    \n",
    "    Input\n",
    "    -----\n",
    "        x: 1D array\n",
    "    \n",
    "    Output\n",
    "    ------\n",
    "        res: 1D array, with the elements of `x` reversed\n",
    "\n",
    "Include this (or an equivalent description) in the function's docstring."
   ]
  },
  {
   "cell_type": "code",
   "execution_count": 4,
   "metadata": {
    "collapsed": false
   },
   "outputs": [
    {
     "name": "stdout",
     "output_type": "stream",
     "text": [
      "The vector is:   [2 2 1 7 8]\n",
      "The shape is:    (5,)\n",
      "The Reverse is:  [8 7 1 2 2]\n",
      "The shape is:    (5,)\n",
      "Please enter array or vector type\n",
      "Please enter array or vector type\n"
     ]
    }
   ],
   "source": [
    "# Problem 3 solution: Reverse a vector\n",
    "\n",
    "def reverse(x):    \n",
    "    '''Reverses a vector so that the first element becomes the last element\n",
    "       Input: \n",
    "           x: a 1-D array\n",
    "       Output:\n",
    "           res: a 1-D array with the reversed elements'''\n",
    "    # Check if input is a vector\n",
    "    if isinstance(x, np.ndarray) == False:\n",
    "        print(\"Please enter array or vector type\")\n",
    "        return\n",
    "    # Print some information to check\n",
    "    print('The vector is:  ',x)\n",
    "    print('The shape is:   ',x.shape)\n",
    "    res = x[::-1]\n",
    "    print('The Reverse is: ',res)\n",
    "    print('The shape is:   ',res.shape)\n",
    "    # Return output\n",
    "    return res\n",
    "\n",
    "# Running the function:\n",
    "y1 = np.array([2,2,1,7,8])  \n",
    "y2 = reverse(y1)\n",
    "y1=7\n",
    "y2=reverse(y1)\n",
    "y1=[7,2,4]\n",
    "y2=reverse(y1)"
   ]
  },
  {
   "cell_type": "markdown",
   "metadata": {},
   "source": [
    "## 4. Find indices of non-zero elements\n",
    "\n",
    "Write a function `find_nonzero(x)` that finds the indices of non-zero elements, with an API like\n",
    "\n",
    "    return the indices of non-zero elements of an array.\n",
    "\n",
    "    Input:      x:  array\n",
    "    Output:     indices: array of integer indices\n",
    "\n",
    "Use the function to get out the non-zero elements from an array containing the elements [1,2,0,0,4,0]."
   ]
  },
  {
   "cell_type": "code",
   "execution_count": 5,
   "metadata": {
    "collapsed": false
   },
   "outputs": [
    {
     "name": "stdout",
     "output_type": "stream",
     "text": [
      "[0 1 4]\n",
      "[1 2 4]\n"
     ]
    }
   ],
   "source": [
    "# Problem 4 solution: Find indices of non-zero elements\n",
    "\n",
    "def find_nonzero(x):\n",
    "    '''Returns all non-zero elements of an array\n",
    "       Input: \n",
    "           x: an array\n",
    "       Output:\n",
    "           indices: a 1-D an array of integer indices'''    \n",
    "    if isinstance(x, np.ndarray) == False:\n",
    "        print(\"Please enter array or vector type\")\n",
    "    else:\n",
    "        indices = np.where(x != 0.0)[0]\n",
    "        return indices\n",
    "\n",
    "y = np.array([1,2,0,0,4,0])        \n",
    "inds = find_nonzero(y)\n",
    "print(inds)\n",
    "print(y[inds])"
   ]
  },
  {
   "cell_type": "markdown",
   "metadata": {},
   "source": [
    "## 5. Array with random values\n",
    "\n",
    "Create a 3x3x3 array with normally distributed ($\\mu =0, \\sigma=1)$ random values."
   ]
  },
  {
   "cell_type": "code",
   "execution_count": 6,
   "metadata": {
    "collapsed": false
   },
   "outputs": [
    {
     "name": "stdout",
     "output_type": "stream",
     "text": [
      "[[[ 0.20266179 -1.30913907 -0.62714458]\n",
      "  [-0.23305419 -0.81514839  0.26342923]\n",
      "  [-1.08683825 -0.2392622   0.73323281]]\n",
      "\n",
      " [[-1.55673723 -0.20845881  0.13379369]\n",
      "  [ 0.99930114  1.42136912 -0.49166853]\n",
      "  [-0.47730345  1.89631929  1.80049264]]\n",
      "\n",
      " [[ 0.4804792   0.50594448  0.76706422]\n",
      "  [-0.02339736 -1.0500966   1.58188922]\n",
      "  [-0.68205518  0.1469463   0.74671692]]]\n"
     ]
    }
   ],
   "source": [
    "# Problem 5 solution: Array with random values\n",
    "\n",
    "sigma = 1.0\n",
    "mu    = 0.0\n",
    "\n",
    "x = sigma * np.random.randn(3,3,3) + mu\n",
    "print(x)"
   ]
  },
  {
   "cell_type": "markdown",
   "metadata": {},
   "source": [
    "## 6. Operations on an array with random values\n",
    "\n",
    "Create a 10x10 array with random values. Find \n",
    "- the minimum value of the 2nd row\n",
    "- the maximum value of the 4th column"
   ]
  },
  {
   "cell_type": "code",
   "execution_count": 7,
   "metadata": {
    "collapsed": false
   },
   "outputs": [
    {
     "name": "stdout",
     "output_type": "stream",
     "text": [
      "[ 0.67720332  0.58403375  0.51210297  0.79326124  0.63739484  0.25770869\n",
      "  0.15377658  0.18442664  0.54971112  0.65844001]\n",
      "The minimum in Row 2 is:     0.153776580322\n",
      "[ 0.52184852  0.79326124  0.19314474  0.36291025  0.8418809   0.44499988\n",
      "  0.34963749  0.27044549  0.19007442  0.03390344]\n",
      "The maximum in column 4 is:  0.841880904514\n"
     ]
    }
   ],
   "source": [
    "# Problem 6 solution: Operations on an array with random values\n",
    "\n",
    "x = np.random.rand(10,10)\n",
    "print(x[1,:])\n",
    "print('The minimum in Row 2 is:    ',np.min(x,axis=1)[1])\n",
    "print(x[:,3])\n",
    "print('The maximum in column 4 is: ',np.max(x,axis=0)[3])"
   ]
  },
  {
   "cell_type": "markdown",
   "metadata": {},
   "source": [
    "## 7. Vector without end points\n",
    "\n",
    "Create a vector of size 10 with values ranging from 0 to 1, both excluded."
   ]
  },
  {
   "cell_type": "code",
   "execution_count": 8,
   "metadata": {
    "collapsed": false
   },
   "outputs": [
    {
     "name": "stdout",
     "output_type": "stream",
     "text": [
      "[ 0.09090909  0.18181818  0.27272727  0.36363636  0.45454545  0.54545455\n",
      "  0.63636364  0.72727273  0.81818182  0.90909091]\n",
      "10\n"
     ]
    }
   ],
   "source": [
    "# Problem 7 solution: Vector without end points\n",
    "\n",
    "x = np.linspace(0,1,num = 11,endpoint=False)[1:]\n",
    "print(x)\n",
    "print(len(x))"
   ]
  },
  {
   "cell_type": "markdown",
   "metadata": {},
   "source": [
    "## 8. Sorted random vector\n",
    "\n",
    "Create a random vector of size 10, then sort it."
   ]
  },
  {
   "cell_type": "code",
   "execution_count": 9,
   "metadata": {
    "collapsed": false
   },
   "outputs": [
    {
     "name": "stdout",
     "output_type": "stream",
     "text": [
      "The old vector is:  [ 0.60522554  0.26207052  0.00801216  0.29668238  0.49107549  0.64030872\n",
      "  0.09609898  0.03402046  0.68772549  0.23129676]\n",
      "The new vector is:  [ 0.00801216  0.03402046  0.09609898  0.23129676  0.26207052  0.29668238\n",
      "  0.49107549  0.60522554  0.64030872  0.68772549]\n",
      "The old vector is:  [ 0.32189856  0.52122464  0.65442186  0.07888669  0.63451864  0.98697956\n",
      "  0.06668798  0.65872596  0.48426247  0.19639036]\n",
      "The new vector is:  [ 0.06668798  0.07888669  0.19639036  0.32189856  0.48426247  0.52122464\n",
      "  0.63451864  0.65442186  0.65872596  0.98697956]\n"
     ]
    }
   ],
   "source": [
    "# Problem 8 solution: Sorted random vector\n",
    "\n",
    "# Create a vector and then sort it\n",
    "x=np.random.rand(10)\n",
    "np.sort(x)\n",
    "print('The old vector is: ',x)\n",
    "print('The new vector is: ',np.sort(x))\n",
    "\n",
    "# or, to create a vector that is sorted:\n",
    "x = np.random.rand(10)\n",
    "print('The old vector is: ',x)\n",
    "y=np.sort(x).copy()\n",
    "print('The new vector is: ',y)"
   ]
  },
  {
   "cell_type": "markdown",
   "metadata": {},
   "source": [
    "## 9. Test for array equality\n",
    "\n",
    "Write a function `is_equal(A, B)` that compare two arrays `A` and `B` and checks to see if they are equal. \n",
    "\n",
    "    return True if two arrays are the same shape and all the elements are equal.\n",
    "    \n",
    "    Inputs:\n",
    "        A, B:  array\n",
    "    Output:\n",
    "        Bool:  True if A and B have the same shape and identical elements.\n",
    "\n",
    "The arrays count as equal if they are the same shape and all elements in the array are equal."
   ]
  },
  {
   "cell_type": "code",
   "execution_count": 10,
   "metadata": {
    "collapsed": false
   },
   "outputs": [
    {
     "data": {
      "text/plain": [
       "False"
      ]
     },
     "execution_count": 10,
     "metadata": {},
     "output_type": "execute_result"
    }
   ],
   "source": [
    "# Problem 9 solution: Test for array equality\n",
    "\n",
    "def is_equal(a,b):\n",
    "    '''Returns True if two arrays are the same shape and all the elements are equal.\n",
    "       Input: \n",
    "           a,b: array\n",
    "       Output:\n",
    "           Bool: True if a and b have the same shape and indentical elements'''\n",
    "    \n",
    "    if isinstance(a, np.ndarray) == False or isinstance(b, np.ndarray) == False:\n",
    "        print(\"Please enter array or vector type for variable a or b\")\n",
    "        return  \n",
    "    out = np.array_equal(a,b)\n",
    "    return out\n",
    "        \n",
    "l1 = np.array([1,2,3])\n",
    "l2 = np.array([1,2,4])\n",
    "is_equal(l1,l2)"
   ]
  },
  {
   "cell_type": "markdown",
   "metadata": {},
   "source": [
    "## 10. Subtract the row mean from rows of a matrix\n",
    "\n",
    "Create a matrix. Then subtract the mean of each row of the matrix from the respective row. Do this without using a loop (that is, using array operations)."
   ]
  },
  {
   "cell_type": "code",
   "execution_count": 11,
   "metadata": {
    "collapsed": false
   },
   "outputs": [
    {
     "name": "stdout",
     "output_type": "stream",
     "text": [
      "The original array:  [[1 2 3]\n",
      " [4 5 6]\n",
      " [7 8 9]]\n",
      "The mean array:      [ 2.  5.  8.]\n",
      "The new array:       [[-1.  0.  1.]\n",
      " [-1.  0.  1.]\n",
      " [-1.  0.  1.]]\n"
     ]
    }
   ],
   "source": [
    "# Problem 10 solution: Subtract the row mean from rows of a matrix\n",
    "\n",
    "R = np.array([[1,2,3],[4,5,6],[7,8,9]])\n",
    "R2 = np.mean(R,axis=1)\n",
    "R3 = np.transpose(np.transpose(R) - R2)\n",
    "print('The original array: ',R)\n",
    "print('The mean array:     ',R2)\n",
    "print('The new array:      ',R3)"
   ]
  },
  {
   "cell_type": "markdown",
   "metadata": {},
   "source": [
    "## 11. Multiply arrays\n",
    "\n",
    "Multiply an array of dimension (5,5,3) with an array with dimensions (5,5). Then multiply an array of dimension (3,5,5) with an array of dimension (5,5)."
   ]
  },
  {
   "cell_type": "code",
   "execution_count": 12,
   "metadata": {
    "collapsed": false
   },
   "outputs": [
    {
     "name": "stdout",
     "output_type": "stream",
     "text": [
      "(5, 5, 3)\n",
      "(3, 5, 5)\n",
      "(3, 5, 5)\n",
      "(3, 5, 5)\n",
      "(5, 5, 3)\n"
     ]
    }
   ],
   "source": [
    "# Problem 11 solution: Multiply arrays\n",
    "\n",
    "\n",
    "l1 = np.random.rand(5,5,3)\n",
    "l2 = np.random.rand(5,5)\n",
    "l3 = np.random.rand(3,5,5)\n",
    "\n",
    "\n",
    "# operator\n",
    "print(np.shape(np.transpose(np.transpose(l1)*l2)))\n",
    "print(np.shape(l3*l2))\n",
    "\n",
    "\n",
    "# Matrix multiplication\n",
    "\n",
    "\n",
    "print(np.shape(np.dot(l3,l2)))\n",
    "print(np.shape(np.dot(np.transpose(l1),l2)))\n",
    "\n",
    "\n",
    "print(np.shape(np.dot(l2,l1)))"
   ]
  },
  {
   "cell_type": "markdown",
   "metadata": {},
   "source": [
    "## 12. Creating a new array\n",
    "\n",
    "Starting with an array\n",
    "\n",
    "    Z = [1,2,3,4,5,6,7,8,9,10,11,12,13,14].\n",
    "    \n",
    "Generate an array \n",
    "\n",
    "    R = [[1,2,3,4], [2,3,4,5], [3,4,5,6], ..., [11,12,13,14]]. "
   ]
  },
  {
   "cell_type": "code",
   "execution_count": 13,
   "metadata": {
    "collapsed": false
   },
   "outputs": [
    {
     "name": "stdout",
     "output_type": "stream",
     "text": [
      "[[  0.   0.   0.   0.]\n",
      " [  1.   2.   3.   4.]\n",
      " [  2.   3.   4.   5.]\n",
      " [  3.   4.   5.   6.]\n",
      " [  4.   5.   6.   7.]\n",
      " [  5.   6.   7.   8.]\n",
      " [  6.   7.   8.   9.]\n",
      " [  7.   8.   9.  10.]\n",
      " [  8.   9.  10.  11.]\n",
      " [  9.  10.  11.  12.]\n",
      " [ 10.  11.  12.  13.]\n",
      " [ 11.  12.  13.  14.]]\n"
     ]
    }
   ],
   "source": [
    "# Problem 12 solution: Creating a new array\n",
    "\n",
    "Z = np.array([1,2,3,4,5,6,7,8,9,10,11,12,13,14])\n",
    "R = np.zeros(shape=[4])\n",
    "\n",
    "f = len(Z)-3\n",
    "for i in range(f):\n",
    "    R = np.vstack((R,Z[i:i+4]))\n",
    "\n",
    "#R = R[1::,:]\n",
    "print(R)"
   ]
  },
  {
   "cell_type": "markdown",
   "metadata": {},
   "source": [
    "## 13. Convert from Cartesian to polar coordinates\n",
    "\n",
    "Write a function `cart2polar(xy)` which takes in an Nx2 matrix of `x, y` pairs representing Cartesian coordinates and return the locations represented in polar coordinates in the same shape matrix. The API is\n",
    "\n",
    "    Return equivalent polar coordinates of specified cartesian points.\n",
    "    \n",
    "    Inputs:\n",
    "        xy: array\n",
    "             Nx2 array of Cartesian coordinates, with columns x and y respectively.\n",
    "\n",
    "    Returns:\n",
    "        rp: array\n",
    "            Nx2 array of polar coordinates, with columns radius and angle respectively\n"
   ]
  },
  {
   "cell_type": "code",
   "execution_count": 14,
   "metadata": {
    "collapsed": false
   },
   "outputs": [
    {
     "name": "stdout",
     "output_type": "stream",
     "text": [
      "(50, 2)\n"
     ]
    },
    {
     "data": {
      "image/png": "[encoded data removed]",
      "text/plain": [
       "<matplotlib.figure.Figure at 0x106aa2518>"
      ]
     },
     "metadata": {},
     "output_type": "display_data"
    }
   ],
   "source": [
    "# Problem 13 solution: Convert from Cartesian to polar coordinates\n",
    "\n",
    "def cart2polar(xy):\n",
    "    '''Return equivalent polar coordinates of specified cartesian points.\n",
    "\n",
    "        Input:\n",
    "            xy: Nx2 array of Cartesian coordinates, with columns x and y respectively.\n",
    "\n",
    "        Output:\n",
    "            rp: Nx2 array of polar coordinates, with columns radius and angle respectively'''\n",
    "    rp = np.zeros(shape = np.shape(xy))\n",
    "    rp[:,0] = np.sqrt(xy[:,0]**2 + xy[:,1]**2)\n",
    "    rp[np.where(xy[:,0] == 0.0),1] = 90.0 \n",
    "    rp[np.where(xy[:,0] != 0.0),1] = (np.arctan(xy[np.where(xy[:,0] != 0.0),1]/\n",
    "                                                xy[np.where(xy[:,0] != 0.0),0])*180/np.pi)\n",
    "    return rp\n",
    "\n",
    "\n",
    "x=40*np.cos(np.linspace(0,40)*np.pi)\n",
    "y = 40*np.sin(np.linspace(0,40)*np.pi)\n",
    "xy=np.zeros(shape=(50,2))\n",
    "xy[:,0]=x\n",
    "xy[:,1]=y\n",
    "l = cart2polar(xy)\n",
    "print(np.shape(l))\n",
    "\n",
    "\n",
    "# just to check. And practice.\n",
    "ax = plt.subplot(111, projection='polar')\n",
    "ax.plot(l[:,1],l[:,0],'-o',markerfacecolor='m')\n",
    "ax.set_yticklabels('')\n",
    "plt.show()"
   ]
  },
  {
   "cell_type": "markdown",
   "metadata": {},
   "source": [
    "## 14. Compute and time for loops and array operations.\n",
    "\n",
    "Calculate the time it takes to do what we did in class\n",
    "\n",
    "    a = np.arange(1024.0).reshape(4, 8, 16, 2)   # a 4D array using sequential numbers\n",
    "    b = np.random.rand(4, 8, 16, 2)              # a 4D array using random numbers\n",
    "    sol = a * b  # element-by-element multiplication. This operation is about as fast as it can be on your computer.\n",
    "\n",
    "and the time required for doing the same operation with a series of 4 `for` loops, one for each dimension of the arrays. Compare the times by calculating a ratio."
   ]
  },
  {
   "cell_type": "code",
   "execution_count": 15,
   "metadata": {
    "collapsed": false
   },
   "outputs": [
    {
     "name": "stdout",
     "output_type": "stream",
     "text": [
      "0.0001 seconds have passed.\n",
      "0.0021 seconds have passed.\n",
      "The ratio of broadcasting to loop time is:  0.060357423850736204\n",
      "Broadcasting takes ~ 6.0 % of loop time\n"
     ]
    }
   ],
   "source": [
    "a = np.arange(1024.0).reshape(4, 8, 16, 2)\n",
    "b = np.random.rand(4, 8, 16, 2)\n",
    "\n",
    "t_start1 = time.time()\n",
    "# broadcasting\n",
    "sol = a * b\n",
    "t_stop1 = time.time()\n",
    "t1 = t_stop1-t_start1\n",
    "print('{:6.4f} seconds have passed.'.format(t1))\n",
    "\n",
    "# loop method\n",
    "t_start2 = time.time()\n",
    "sol=np.zeros(shape=(4,8,16,2))\n",
    "for i1 in range(4):\n",
    "    for i2 in range(8):\n",
    "        for i3 in range(16):\n",
    "            for i4 in range(2):\n",
    "                sol[i1,i2,i3,i4]=a[i1,i2,i3,i4]*b[i1,i2,i3,i4]\n",
    "\n",
    "t_stop2 = time.time()\n",
    "t2 = t_stop2-t_start2\n",
    "print('{:6.4f} seconds have passed.'.format(t2))\n",
    "\n",
    "print('The ratio of broadcasting to loop time is: ',t1/t2)\n",
    "print('Broadcasting takes ~',np.around(t1/t2*100,decimals = 0), '% of loop time')"
   ]
  },
  {
   "cell_type": "markdown",
   "metadata": {},
   "source": [
    "## 15. Fix the code\n",
    "\n",
    "This code needs to be fixed so that it can run properly and pass the assertion test at the bottom. Write out what you changed to make it work and why it needed to be changed."
   ]
  },
  {
   "cell_type": "code",
   "execution_count": 16,
   "metadata": {
    "collapsed": false
   },
   "outputs": [],
   "source": [
    "# Problem 15 solution: Fix the code\n",
    "def calculate(a, b):\n",
    "    \"\"\"Do some calculations\n",
    "    \n",
    "    Take in two arrays, subtract 1/4 of the [:2,:] elements from the elements themselves.\n",
    "    Then multiply with array b and return the result.\n",
    "    \n",
    "    Inputs:\n",
    "        a: input array, shape [MxN]\n",
    "        b: input array, shape [M]\n",
    "    \n",
    "    Returns:\n",
    "        resultant array\n",
    "    \"\"\"\n",
    "# I made aa equal to a copy of a so that the function did not change a as aa changed\n",
    "    aa = a.copy()[:2, :]\n",
    "    aa /= 4.\n",
    "    a[:2, :] -= aa\n",
    "# I transposed one of the arrays so that they could be broadcast together.\n",
    "# Then I returned the array as its original shape, MxN\n",
    "    return np.transpose(np.transpose(a)*b)\n",
    "    \n",
    "\n",
    "a = np.ones((3, 2))\n",
    "b = np.ones(3)*3\n",
    "res = calculate(a, b)\n",
    "\n",
    "assert (res == np.array([[ 2.25,  2.25],[ 2.25,  2.25],[ 3., 3.]])).all()"
   ]
  },
  {
   "cell_type": "markdown",
   "metadata": {},
   "source": [
    "## 16. Calculate components of a vector\n",
    "\n",
    "Read in file `data/burl1h2010.txt`. This file gives a bunch of data from a wind station. In particular, read in the wind direction, `WDIR`, and wind speed, `WSPD`. Then, write a function that calculates and returns the `u` and `v` components of this wind vector, which point along the x- and y-axes.\n",
    "\n",
    "The function should have the following basic functionality:\n",
    "\n",
    "    Take in vector and return components.\n",
    "    \n",
    "    Inputs:\n",
    "        vdir: vector direction in degrees\n",
    "        vspd: vector magnitude\n",
    "        \n",
    "    Returns:\n",
    "        u: x component of vector\n",
    "        v: y component of vector\n"
   ]
  },
  {
   "cell_type": "code",
   "execution_count": 28,
   "metadata": {
    "collapsed": false
   },
   "outputs": [
    {
     "data": {
      "text/plain": [
       "(array([ -2.08397511,  -1.96070053,  -2.12119911, ...,  -9.56084447,\n",
       "        -10.50707636,  -8.83345912]),\n",
       " array([ 2.1580194 ,  3.01921404,  2.52794666, ...,  6.208885  ,\n",
       "         5.5867116 ,  5.1       ]))"
      ]
     },
     "execution_count": 28,
     "metadata": {},
     "output_type": "execute_result"
    }
   ],
   "source": [
    "# Problem 16 solution: Calculate components of a vector\n",
    "\n",
    "data = np.loadtxt('../python4geosciences-hw/data/burl1h2010.txt',comments='#')\n",
    "WDIR = data[:,5]\n",
    "WSPD = data[:,6]\n",
    "\n",
    "\n",
    "def wind_components(vspd,vdir):\n",
    "    '''Take in speed vector and direction and return vector components.\n",
    "        Inputs:\n",
    "            vdir: vector direction in degrees\n",
    "            vspd: vector magnitude\n",
    "\n",
    "        Outputs:\n",
    "            u: x component of vector\n",
    "            v: y component of vector'''    \n",
    "    if np.shape(vspd) != np.shape(vdir):\n",
    "        print('magnitude vector shape must match direction vector shape')\n",
    "        return\n",
    "    u = vspd*np.cos(vdir/180*np.pi)\n",
    "    v = vspd*np.sin(vdir/180*np.pi)\n",
    "    return u,v\n",
    "wind_components(WSPD,WDIR)"
   ]
  },
  {
   "cell_type": "markdown",
   "metadata": {},
   "source": [
    "## 17. (Grad) Write and use a class\n",
    "\n",
    "Consider one of the data files located in `python4geosciences/data/MCH/`. Write a class, `dataclass`, to store some of the information in the file. The class should:\n",
    "\n",
    "* be initialized with the name of the file (without file type suffix of .cnv2), and the temperature and salinity values found in the file;\n",
    "* contain a method, `salt_mean`, which returns the mean of the salinity;\n",
    "* contain a method, `temp_max`, which returns the maximum value of the temperature values.\n",
    "\n",
    "Notice that there are many data files in this directory. It would be a lot of work to read them all in by hand. Instead, write a loop which loops through the file names, reads in the necessary data, calls `dataclass` to store the data in a class instance, and adds it to a list of all of the class instances. At the end of your solution, you should have a list of all of the class instances, one for each data file. As usage examples, if your list of data objects is called `wind`, you should be able to access the temperatures from the 3rd file that is read in with\n",
    "\n",
    "    wind[2].temp\n",
    "\n",
    "and you should be able to calculate the mean salinity of the final file with \n",
    "\n",
    "    wind[-1].salt_mean()\n",
    "\n",
    "Hint: Check out the package `glob` for reading in file names with a wild card. "
   ]
  },
  {
   "cell_type": "code",
   "execution_count": 43,
   "metadata": {
    "collapsed": false
   },
   "outputs": [
    {
     "data": {
      "text/plain": [
       "(3.2017919230769225,\n",
       " 5.1235241408450705,\n",
       " 22.222399999999997,\n",
       " 36.294326760563386)"
      ]
     },
     "execution_count": 43,
     "metadata": {},
     "output_type": "execute_result"
    },
    {
     "data": {
      "image/png": "[encoded data removed]",
      "text/plain": [
       "<matplotlib.figure.Figure at 0x107821320>"
      ]
     },
     "metadata": {},
     "output_type": "display_data"
    }
   ],
   "source": [
    "#Problem 17 (Grad): Write and use a class\n",
    "\n",
    "\n",
    "class dataclass(object):\n",
    "    ''' Takes file inputs and extracts salinity, temperature, and\n",
    "        conductivity from a specific file .cnv2 set of files\n",
    "    \n",
    "    Initial: Extracts information from data file\n",
    "        Input: file path and name without extension\n",
    "        output:\n",
    "            self.sal: salinity vector for that file\n",
    "            self.temper: temperature vector for that file\n",
    "            self.conduct: conductivity vector for that file\n",
    "    \n",
    "    Methods:\n",
    "        temp_max(): returns the maximum temperature for that file\n",
    "        salt_mean(): returns the mean salinity for that file '''\n",
    "    \n",
    " \n",
    "    def __init__(self, file):\n",
    "        data = np.loadtxt(file+'.cnv2',skiprows=57)\n",
    "        self.sal=data[:,5]\n",
    "        self.temper = data[:,2]\n",
    "        self.press = data[:,0]\n",
    "        self.conduct = data[:,4]\n",
    "\n",
    "    def salt_mean(self):\n",
    "        salinity_mean = np.mean(self.sal)\n",
    "        return salinity_mean   \n",
    "    \n",
    "    def temp_max(self):\n",
    "        maximum_temperature = np.max(self.temper)\n",
    "        return maximum_temperature\n",
    "    \n",
    "    # For practice\n",
    "    def cond_mean(self):\n",
    "        conduct_mean = np.mean(self.conduct)\n",
    "        return conduct_mean \n",
    "\n",
    "# Get file names    \n",
    "L = glob.glob('../python4geosciences-hw/data/MCH/*')\n",
    "MCH_list=[]          # creating this list by splitting the contents of glob.glob is just\n",
    "for i in L:          # so that the dataclass takes only the MCH file names without the path \n",
    "    F = i.split('.cnv2') # or .cnv2 extension. \n",
    "    MCH_list.append(dataclass(F[0]))\n",
    "\n",
    "# Create arrays\n",
    "salty_mean=[]\n",
    "condy_mean=[]\n",
    "# Fill arrays\n",
    "[salty_mean.append(i.salt_mean()) for i in MCH_list]\n",
    "[condy_mean.append(i.cond_mean()) for i in MCH_list]\n",
    "# Plot to make sure arrays are filled with reasonable values\n",
    "fig = plt.figure()\n",
    "ax = fig.add_subplot(111)\n",
    "ax.plot(condy_mean,salty_mean,'o',ms=10)\n",
    "ax.set_xlabel(' Average Conductivity [S/m] ')\n",
    "ax.set_ylabel(' Average Salinity [PSS-78 psu] ')\n",
    "ax.set_title('Titles! Titles! Titles! Hooray!')\n",
    "ax.axis('tight')"
   ]
  },
  {
   "cell_type": "markdown",
   "metadata": {},
   "source": [
    "## 18. (Grad) Running mean\n",
    "\n",
    "Write a function that computes averages using a sliding window over a vector; that is, it should take in a vector and for every element in the vector, compute the average of that point with the N points on either side of the element. N should also be an input parameter, and the function should return the original vector if N=0. The returned vector should be the same size as the input vector.\n",
    "\n",
    "Do not use the `pandas` package or the function `convolve`; instead, use a loop. Use the following API for your function:\n",
    "\n",
    "    Return the running average of a vector, with averaging window of size N.\n",
    "    \n",
    "    Inputs:\n",
    "        vec: Input vector\n",
    "        N (int): Averaging window size, or number of elements to include in mean on either side of each element.\n",
    "    \n",
    "    Outputs:\n",
    "        out: Vector of running-averaged values; same size as vec\n"
   ]
  },
  {
   "cell_type": "code",
   "execution_count": 49,
   "metadata": {
    "collapsed": false
   },
   "outputs": [
    {
     "data": {
      "text/plain": [
       "array([ 2.5,  3. ,  3.5,  4. ,  4.5,  5. ,  5. ,  5.5,  6. ,  6.5,  7. ])"
      ]
     },
     "execution_count": 49,
     "metadata": {},
     "output_type": "execute_result"
    }
   ],
   "source": [
    "# Problem 18 (Grad): Running mean\n",
    "\n",
    "def running_mean(l,N):\n",
    "    '''Return the running average of a vector, with averaging window of size N.\n",
    "        \n",
    "        Input:\n",
    "            vec: Input vector\n",
    "            N (int): Number of elements to include in mean on either side of each element.\n",
    "\n",
    "        Output:\n",
    "            out: Vector of running-averaged values; same size as vec. Endpoints are treated\n",
    "            as limits of window. They do not wrap around vector.'''\n",
    "    \n",
    "    o=[]\n",
    "    if N == 0:\n",
    "        print('N is equal to 0. Function return: original vector')\n",
    "        return l\n",
    "    for p in range(len(l)):\n",
    "        if p-N < 0:\n",
    "            lim1 = 0\n",
    "            lim2 = p+N+1\n",
    "        elif p+N > len(l)-1:\n",
    "            lim2 = len(l)-1\n",
    "            lim1 = p-N\n",
    "        else:\n",
    "            lim1 = p-N\n",
    "            lim2 = p+N+1\n",
    "        o.append(np.mean(l[lim1:lim2]))\n",
    "    out = np.array(o)\n",
    "    return out\n",
    "inp=np.array([0,1,2,3,4,5,6,7,8.,9,10])\n",
    "#running_mean(inp,0) # to check\n",
    "#inp=np.random.rand(10) # to check\n",
    "running_mean(inp,5)"
   ]
  },
  {
   "cell_type": "code",
   "execution_count": null,
   "metadata": {
    "collapsed": true
   },
   "outputs": [],
   "source": []
  }
 ],
 "metadata": {
  "kernelspec": {
   "display_name": "Python 3",
   "language": "python",
   "name": "python3"
  },
  "language_info": {
   "codemirror_mode": {
    "name": "ipython",
    "version": 3
   },
   "file_extension": ".py",
   "mimetype": "text/x-python",
   "name": "python",
   "nbconvert_exporter": "python",
   "pygments_lexer": "ipython3",
   "version": "3.5.1"
  }
 },
 "nbformat": 4,
 "nbformat_minor": 0
}
